{
 "cells": [
  {
   "cell_type": "code",
   "execution_count": 1,
   "id": "01fcf545-ad71-4df9-b42a-de94ade374fe",
   "metadata": {
    "tags": []
   },
   "outputs": [],
   "source": [
    "from datetime import datetime\n",
    "\n",
    "import sagemaker\n",
    "import secrets\n",
    "import boto3\n",
    "import os"
   ]
  },
  {
   "cell_type": "code",
   "execution_count": 4,
   "id": "e1ec3a6c-235c-4d56-b09f-00f3393353c5",
   "metadata": {
    "tags": []
   },
   "outputs": [
    {
     "name": "stdout",
     "output_type": "stream",
     "text": [
      "Role : arn:aws:iam::436376758376:role/service-role/SageMaker-MLOpsEngineer1\n"
     ]
    }
   ],
   "source": [
    "def get_sagemaker_session():\n",
    "    \"\"\"\n",
    "    Gets sagemaker session, bucket and role.\n",
    "    \"\"\"\n",
    "    sagemaker_session = sagemaker.Session()\n",
    "    role = sagemaker.get_execution_role()\n",
    "    bucket = sagemaker_session.default_bucket()\n",
    "\n",
    "    print(f\"Role : {role}\")\n",
    "    return sagemaker_session, role, bucket\n",
    "\n",
    "sagemaker_session, role, bucket = get_sagemaker_session()"
   ]
  },
  {
   "cell_type": "code",
   "execution_count": 5,
   "id": "56e9a406-3c05-411c-b7cc-4cdb30d5af9d",
   "metadata": {
    "tags": []
   },
   "outputs": [
    {
     "data": {
      "text/plain": [
       "'sagemaker-eu-west-1-436376758376'"
      ]
     },
     "execution_count": 5,
     "metadata": {},
     "output_type": "execute_result"
    }
   ],
   "source": [
    "bucket"
   ]
  },
  {
   "cell_type": "code",
   "execution_count": 6,
   "id": "49ca33b8-9b10-4cc7-8ffb-442213e3ae75",
   "metadata": {
    "tags": []
   },
   "outputs": [],
   "source": [
    "prefix = \"projects/mlops\""
   ]
  },
  {
   "cell_type": "code",
   "execution_count": 7,
   "id": "7726ed85-c4ce-4270-b100-6a34af64dd5a",
   "metadata": {
    "tags": []
   },
   "outputs": [
    {
     "name": "stdout",
     "output_type": "stream",
     "text": [
      "sklearn-dummy-2023-08-21-e3b9520dccff4036b738fb79d1e0d5ec\n"
     ]
    }
   ],
   "source": [
    "logs = {}\n",
    "model_id_prefix = \"sklearn-dummy\"\n",
    "date_str = datetime.now().strftime(\"%Y-%m-%d\")\n",
    "logs[\"model_id\"] = f'{model_id_prefix}-{date_str}-' + secrets.token_hex(nbytes=16)\n",
    "print(logs[\"model_id\"])"
   ]
  },
  {
   "cell_type": "code",
   "execution_count": 8,
   "id": "66263b30-73e0-45cc-81d5-519c40cbb13c",
   "metadata": {
    "tags": []
   },
   "outputs": [],
   "source": [
    "now = datetime.now()"
   ]
  },
  {
   "cell_type": "code",
   "execution_count": 9,
   "id": "8ac4b57b-8233-4787-a2a1-d491bb2022a7",
   "metadata": {
    "tags": []
   },
   "outputs": [],
   "source": [
    "from sagemaker.workflow.parameters import ParameterInteger, ParameterString, ParameterFloat\n",
    "\n",
    "base_job_prefix=\"mlops-test\"\n",
    "model_package_group_name = \"MLOpsTestModel\"\n",
    "pipeline_name = \"TrainingPipelineMLOpsTest\"  # SageMaker Pipeline name\n",
    "\n",
    "# parameters for pipeline execution\n",
    "processing_instance_count = 1\n",
    "evaluation_instance_count = 1\n",
    "processing_instance_type = \"ml.m5.large\"\n",
    "training_instance_type = \"ml.m5.large\"\n",
    "evaluation_instance_type = \"ml.m5.large\"\n",
    "model_approval_status = ParameterString(\n",
    "    name=\"ModelApprovalStatus\", default_value=\"PendingManualApproval\"\n",
    ")"
   ]
  },
  {
   "cell_type": "code",
   "execution_count": 10,
   "id": "e39add6e-ad9c-4ba7-826f-2f07a460d5eb",
   "metadata": {
    "tags": []
   },
   "outputs": [],
   "source": [
    "from sagemaker.sklearn.processing import SKLearnProcessor\n",
    "from sagemaker.processing import ProcessingInput, ProcessingOutput\n",
    "from sagemaker.workflow.steps import ProcessingStep"
   ]
  },
  {
   "cell_type": "code",
   "execution_count": 11,
   "id": "dcf7691b-2b9c-4bc0-acf1-1e76c26a854d",
   "metadata": {
    "tags": []
   },
   "outputs": [],
   "source": [
    "sklearn_framework_version = \"1.2-1\"\n",
    "\n",
    "sklearn_processor = SKLearnProcessor(\n",
    "    framework_version=sklearn_framework_version,\n",
    "    instance_type=processing_instance_type,\n",
    "    instance_count=processing_instance_count,\n",
    "    volume_size_in_gb=5,\n",
    "    base_job_name=\"mlops-test-nb-pipeline-preprocess\",\n",
    "    role=role\n",
    ")"
   ]
  },
  {
   "cell_type": "code",
   "execution_count": 12,
   "id": "26561fd1-1a1d-4a81-aefd-bb435d809323",
   "metadata": {
    "tags": []
   },
   "outputs": [],
   "source": [
    "processing_step = ProcessingStep(\n",
    "    name=\"MLOpsTestProcessing\",\n",
    "    processor=sklearn_processor,\n",
    "    outputs=[\n",
    "        ProcessingOutput(output_name=\"train_data\", source=\"/opt/ml/processing/train\",\n",
    "                        destination=os.path.join(f\"s3://{bucket}\", prefix, \"challenger\", \n",
    "                                                 now.strftime(\"%Y/%m/%d\"), logs[\"model_id\"], \"data\", \"train\")),\n",
    "        ProcessingOutput(output_name=\"test_data\", source=\"/opt/ml/processing/test\",\n",
    "                        destination=os.path.join(f\"s3://{bucket}\", prefix, \"challenger\", \n",
    "                                                 now.strftime(\"%Y/%m/%d\"), logs[\"model_id\"], \"data\", \"test\")),\n",
    "    ],\n",
    "    code=os.path.join(\"../../train/code/preprocess.py\")\n",
    ")"
   ]
  },
  {
   "cell_type": "code",
   "execution_count": 13,
   "id": "799615a1-1102-4f52-ab39-8f2b3d02597f",
   "metadata": {
    "tags": []
   },
   "outputs": [],
   "source": [
    "from sagemaker.sklearn.estimator import SKLearn\n",
    "\n",
    "sklearn = SKLearn(\n",
    "    entry_point=\"train.py\",\n",
    "    source_dir=\"../../train/code/\",\n",
    "    framework_version=\"1.2-1\",\n",
    "    instance_type=training_instance_type,\n",
    "    instance_count=1,\n",
    "    role=role,\n",
    "    sagemaker_session=sagemaker_session,\n",
    "    output_path=f\"s3://{bucket}/{prefix}/training/output\",\n",
    "    code_location=f\"s3://{bucket}/{prefix}/training/code\"\n",
    ")\n"
   ]
  },
  {
   "cell_type": "code",
   "execution_count": 14,
   "id": "f26ae057-8bf8-473e-af1a-bfee8166b811",
   "metadata": {
    "tags": []
   },
   "outputs": [],
   "source": [
    "from sagemaker.inputs import TrainingInput\n",
    "from sagemaker.workflow.steps import TrainingStep\n",
    "\n",
    "step_train = TrainingStep(\n",
    "    name=\"mlops-pipeline-test-model\",\n",
    "    estimator=sklearn,\n",
    "    inputs={\n",
    "        \"train\": TrainingInput(\n",
    "            s3_data=processing_step.properties.ProcessingOutputConfig.Outputs[\"train_data\"].S3Output.S3Uri,\n",
    "            content_type=\"text/csv\",\n",
    "        )\n",
    "    }\n",
    ")"
   ]
  },
  {
   "cell_type": "code",
   "execution_count": 15,
   "id": "3b17db16-5d1f-4f33-b0d4-080e787105c5",
   "metadata": {
    "tags": []
   },
   "outputs": [],
   "source": [
    "from sagemaker.workflow.properties import PropertyFile\n",
    "\n",
    "evaluation_report = PropertyFile(\n",
    "    name=\"EvaluationReport\", output_name=\"evaluation\", path=\"evaluation.json\"\n",
    ")\n"
   ]
  },
  {
   "cell_type": "code",
   "execution_count": 16,
   "id": "c7d98d9b-bfa4-4188-a270-59a85f7fa72c",
   "metadata": {
    "tags": []
   },
   "outputs": [],
   "source": [
    "evaluation = SKLearnProcessor(\n",
    "    framework_version=sklearn_framework_version,\n",
    "    instance_type=evaluation_instance_type,\n",
    "    instance_count=evaluation_instance_count,\n",
    "    volume_size_in_gb=5,\n",
    "    base_job_name=\"mlops-test-nb-pipeline-evaluate\",\n",
    "    role=role\n",
    ")"
   ]
  },
  {
   "cell_type": "code",
   "execution_count": 17,
   "id": "95241f3a-b191-4196-8f91-2cb25f1107e5",
   "metadata": {
    "tags": []
   },
   "outputs": [],
   "source": [
    "step_evaluate = ProcessingStep(\n",
    "    name=\"EvaluatePerformance\",\n",
    "    processor=evaluation,\n",
    "    inputs=[\n",
    "        ProcessingInput(\n",
    "            source=step_train.properties.ModelArtifacts.S3ModelArtifacts,\n",
    "            destination=\"/opt/ml/model\",\n",
    "        ),\n",
    "        ProcessingInput(\n",
    "            source=processing_step.properties.ProcessingOutputConfig.Outputs[\"test_data\"].S3Output.S3Uri,\n",
    "            destination=\"/opt/ml/processing/test\",\n",
    "        ),\n",
    "    ],\n",
    "    outputs=[\n",
    "        ProcessingOutput(output_name=\"evaluation\", source=\"/opt/ml/processing/evaluation\", destination=os.path.join(f\"s3://{bucket}\", prefix, \"challenger\", \n",
    "                                                 now.strftime(\"%Y/%m/%d\"), logs[\"model_id\"], \"data\", \"evaluation_report\")),\n",
    "    ],\n",
    "    property_files=[evaluation_report],\n",
    "    code=\"../../train/code/evaluate.py\"\n",
    ")\n"
   ]
  },
  {
   "cell_type": "code",
   "execution_count": 18,
   "id": "4c4199e7-45de-453f-a2cc-d82c1505aecb",
   "metadata": {
    "tags": []
   },
   "outputs": [],
   "source": [
    "from sagemaker.workflow.pipeline import Pipeline\n",
    "\n",
    "pipeline = Pipeline(\n",
    "    name=pipeline_name,\n",
    "    steps=[processing_step, step_train, step_evaluate]\n",
    ")"
   ]
  },
  {
   "cell_type": "code",
   "execution_count": 19,
   "id": "ac33e46d-7425-4325-8991-928a667d4779",
   "metadata": {
    "tags": []
   },
   "outputs": [
    {
     "name": "stdout",
     "output_type": "stream",
     "text": [
      "Using provided s3_resource\n"
     ]
    },
    {
     "data": {
      "text/plain": [
       "{'Version': '2020-12-01',\n",
       " 'Metadata': {},\n",
       " 'Parameters': [],\n",
       " 'PipelineExperimentConfig': {'ExperimentName': {'Get': 'Execution.PipelineName'},\n",
       "  'TrialName': {'Get': 'Execution.PipelineExecutionId'}},\n",
       " 'Steps': [{'Name': 'MLOpsTestProcessing',\n",
       "   'Type': 'Processing',\n",
       "   'Arguments': {'ProcessingResources': {'ClusterConfig': {'InstanceType': 'ml.m5.large',\n",
       "      'InstanceCount': 1,\n",
       "      'VolumeSizeInGB': 5}},\n",
       "    'AppSpecification': {'ImageUri': '141502667606.dkr.ecr.eu-west-1.amazonaws.com/sagemaker-scikit-learn:1.2-1-cpu-py3',\n",
       "     'ContainerEntrypoint': ['python3',\n",
       "      '/opt/ml/processing/input/code/preprocess.py']},\n",
       "    'RoleArn': 'arn:aws:iam::436376758376:role/service-role/SageMaker-MLOpsEngineer1',\n",
       "    'ProcessingInputs': [{'InputName': 'code',\n",
       "      'AppManaged': False,\n",
       "      'S3Input': {'S3Uri': 's3://sagemaker-eu-west-1-436376758376/MLOpsTestProcessing-28a82667eb79a70202ead63468573f44/input/code/preprocess.py',\n",
       "       'LocalPath': '/opt/ml/processing/input/code',\n",
       "       'S3DataType': 'S3Prefix',\n",
       "       'S3InputMode': 'File',\n",
       "       'S3DataDistributionType': 'FullyReplicated',\n",
       "       'S3CompressionType': 'None'}}],\n",
       "    'ProcessingOutputConfig': {'Outputs': [{'OutputName': 'train_data',\n",
       "       'AppManaged': False,\n",
       "       'S3Output': {'S3Uri': 's3://sagemaker-eu-west-1-436376758376/projects/mlops/challenger/2023/08/21/sklearn-dummy-2023-08-21-e3b9520dccff4036b738fb79d1e0d5ec/data/train',\n",
       "        'LocalPath': '/opt/ml/processing/train',\n",
       "        'S3UploadMode': 'EndOfJob'}},\n",
       "      {'OutputName': 'test_data',\n",
       "       'AppManaged': False,\n",
       "       'S3Output': {'S3Uri': 's3://sagemaker-eu-west-1-436376758376/projects/mlops/challenger/2023/08/21/sklearn-dummy-2023-08-21-e3b9520dccff4036b738fb79d1e0d5ec/data/test',\n",
       "        'LocalPath': '/opt/ml/processing/test',\n",
       "        'S3UploadMode': 'EndOfJob'}}]}}},\n",
       "  {'Name': 'mlops-pipeline-test-model',\n",
       "   'Type': 'Training',\n",
       "   'Arguments': {'AlgorithmSpecification': {'TrainingInputMode': 'File',\n",
       "     'TrainingImage': '141502667606.dkr.ecr.eu-west-1.amazonaws.com/sagemaker-scikit-learn:1.2-1-cpu-py3'},\n",
       "    'OutputDataConfig': {'S3OutputPath': 's3://sagemaker-eu-west-1-436376758376/projects/mlops/training/output'},\n",
       "    'StoppingCondition': {'MaxRuntimeInSeconds': 86400},\n",
       "    'ResourceConfig': {'VolumeSizeInGB': 30,\n",
       "     'InstanceCount': 1,\n",
       "     'InstanceType': 'ml.m5.large'},\n",
       "    'RoleArn': 'arn:aws:iam::436376758376:role/service-role/SageMaker-MLOpsEngineer1',\n",
       "    'InputDataConfig': [{'DataSource': {'S3DataSource': {'S3DataType': 'S3Prefix',\n",
       "        'S3Uri': {'Get': \"Steps.MLOpsTestProcessing.ProcessingOutputConfig.Outputs['train_data'].S3Output.S3Uri\"},\n",
       "        'S3DataDistributionType': 'FullyReplicated'}},\n",
       "      'ContentType': 'text/csv',\n",
       "      'ChannelName': 'train'}],\n",
       "    'HyperParameters': {'sagemaker_submit_directory': '\"s3://sagemaker-eu-west-1-436376758376/projects/mlops/training/code/mlops-pipeline-test-model-9321b7e1c80f00363420ba48f10a4e84/source/sourcedir.tar.gz\"',\n",
       "     'sagemaker_program': '\"train.py\"',\n",
       "     'sagemaker_container_log_level': '20',\n",
       "     'sagemaker_region': '\"eu-west-1\"'},\n",
       "    'DebugHookConfig': {'S3OutputPath': 's3://sagemaker-eu-west-1-436376758376/projects/mlops/training/output',\n",
       "     'CollectionConfigurations': []},\n",
       "    'ProfilerConfig': {'S3OutputPath': 's3://sagemaker-eu-west-1-436376758376/projects/mlops/training/output',\n",
       "     'DisableProfiler': False}}},\n",
       "  {'Name': 'EvaluatePerformance',\n",
       "   'Type': 'Processing',\n",
       "   'Arguments': {'ProcessingResources': {'ClusterConfig': {'InstanceType': 'ml.m5.large',\n",
       "      'InstanceCount': 1,\n",
       "      'VolumeSizeInGB': 5}},\n",
       "    'AppSpecification': {'ImageUri': '141502667606.dkr.ecr.eu-west-1.amazonaws.com/sagemaker-scikit-learn:1.2-1-cpu-py3',\n",
       "     'ContainerEntrypoint': ['python3',\n",
       "      '/opt/ml/processing/input/code/evaluate.py']},\n",
       "    'RoleArn': 'arn:aws:iam::436376758376:role/service-role/SageMaker-MLOpsEngineer1',\n",
       "    'ProcessingInputs': [{'InputName': 'input-1',\n",
       "      'AppManaged': False,\n",
       "      'S3Input': {'S3Uri': {'Get': 'Steps.mlops-pipeline-test-model.ModelArtifacts.S3ModelArtifacts'},\n",
       "       'LocalPath': '/opt/ml/model',\n",
       "       'S3DataType': 'S3Prefix',\n",
       "       'S3InputMode': 'File',\n",
       "       'S3DataDistributionType': 'FullyReplicated',\n",
       "       'S3CompressionType': 'None'}},\n",
       "     {'InputName': 'input-2',\n",
       "      'AppManaged': False,\n",
       "      'S3Input': {'S3Uri': {'Get': \"Steps.MLOpsTestProcessing.ProcessingOutputConfig.Outputs['test_data'].S3Output.S3Uri\"},\n",
       "       'LocalPath': '/opt/ml/processing/test',\n",
       "       'S3DataType': 'S3Prefix',\n",
       "       'S3InputMode': 'File',\n",
       "       'S3DataDistributionType': 'FullyReplicated',\n",
       "       'S3CompressionType': 'None'}},\n",
       "     {'InputName': 'code',\n",
       "      'AppManaged': False,\n",
       "      'S3Input': {'S3Uri': 's3://sagemaker-eu-west-1-436376758376/EvaluatePerformance-91dc07ae819d2e569fe1b80e1d24212d/input/code/evaluate.py',\n",
       "       'LocalPath': '/opt/ml/processing/input/code',\n",
       "       'S3DataType': 'S3Prefix',\n",
       "       'S3InputMode': 'File',\n",
       "       'S3DataDistributionType': 'FullyReplicated',\n",
       "       'S3CompressionType': 'None'}}],\n",
       "    'ProcessingOutputConfig': {'Outputs': [{'OutputName': 'evaluation',\n",
       "       'AppManaged': False,\n",
       "       'S3Output': {'S3Uri': 's3://sagemaker-eu-west-1-436376758376/projects/mlops/challenger/2023/08/21/sklearn-dummy-2023-08-21-e3b9520dccff4036b738fb79d1e0d5ec/data/evaluation_report',\n",
       "        'LocalPath': '/opt/ml/processing/evaluation',\n",
       "        'S3UploadMode': 'EndOfJob'}}]}},\n",
       "   'PropertyFiles': [{'PropertyFileName': 'EvaluationReport',\n",
       "     'OutputName': 'evaluation',\n",
       "     'FilePath': 'evaluation.json'}]}]}"
      ]
     },
     "execution_count": 19,
     "metadata": {},
     "output_type": "execute_result"
    }
   ],
   "source": [
    "import json\n",
    "json.loads(pipeline.definition())"
   ]
  },
  {
   "cell_type": "code",
   "execution_count": 20,
   "id": "11e3d926-515a-4279-971b-e15ade6df83e",
   "metadata": {
    "tags": []
   },
   "outputs": [
    {
     "name": "stdout",
     "output_type": "stream",
     "text": [
      "Using provided s3_resource\n"
     ]
    },
    {
     "data": {
      "text/plain": [
       "{'PipelineArn': 'arn:aws:sagemaker:eu-west-1:436376758376:pipeline/TrainingPipelineMLOpsTest',\n",
       " 'ResponseMetadata': {'RequestId': '441b2d97-3bbb-4868-a798-bcb431f97469',\n",
       "  'HTTPStatusCode': 200,\n",
       "  'HTTPHeaders': {'x-amzn-requestid': '441b2d97-3bbb-4868-a798-bcb431f97469',\n",
       "   'content-type': 'application/x-amz-json-1.1',\n",
       "   'content-length': '93',\n",
       "   'date': 'Mon, 21 Aug 2023 09:01:35 GMT'},\n",
       "  'RetryAttempts': 0}}"
      ]
     },
     "execution_count": 20,
     "metadata": {},
     "output_type": "execute_result"
    }
   ],
   "source": [
    "pipeline.upsert(role_arn=role)"
   ]
  },
  {
   "cell_type": "code",
   "execution_count": 23,
   "id": "1f507d95-5990-453b-b551-5bc0c245bed0",
   "metadata": {
    "tags": []
   },
   "outputs": [
    {
     "data": {
      "text/plain": [
       "_PipelineExecution(arn='arn:aws:sagemaker:eu-west-1:436376758376:pipeline/TrainingPipelineMLOpsTest/execution/d3ew88p85ela', sagemaker_session=<sagemaker.session.Session object at 0x7f025703b550>)"
      ]
     },
     "execution_count": 23,
     "metadata": {},
     "output_type": "execute_result"
    }
   ],
   "source": [
    "pipeline.start()"
   ]
  },
  {
   "cell_type": "code",
   "execution_count": 24,
   "id": "cdc5c5e8-2485-4955-94cf-96e0ddf1f2eb",
   "metadata": {
    "tags": []
   },
   "outputs": [
    {
     "data": {
      "text/plain": [
       "{'PipelineSummaries': [{'PipelineArn': 'arn:aws:sagemaker:eu-west-1:436376758376:pipeline/TrainingPipelineMLOpsTest',\n",
       "   'PipelineName': 'TrainingPipelineMLOpsTest',\n",
       "   'PipelineDisplayName': 'TrainingPipelineMLOpsTest',\n",
       "   'RoleArn': 'arn:aws:iam::436376758376:role/service-role/SageMaker-MLOpsEngineer1',\n",
       "   'CreationTime': datetime.datetime(2023, 8, 21, 9, 1, 35, 568000, tzinfo=tzlocal()),\n",
       "   'LastModifiedTime': datetime.datetime(2023, 8, 21, 9, 4, 36, 460000, tzinfo=tzlocal())}],\n",
       " 'ResponseMetadata': {'RequestId': '56cfc0fd-da51-490a-8e8a-ea2b14ec956a',\n",
       "  'HTTPStatusCode': 200,\n",
       "  'HTTPHeaders': {'x-amzn-requestid': '56cfc0fd-da51-490a-8e8a-ea2b14ec956a',\n",
       "   'content-type': 'application/x-amz-json-1.1',\n",
       "   'content-length': '358',\n",
       "   'date': 'Mon, 21 Aug 2023 09:04:37 GMT'},\n",
       "  'RetryAttempts': 0}}"
      ]
     },
     "execution_count": 24,
     "metadata": {},
     "output_type": "execute_result"
    }
   ],
   "source": [
    "sm = boto3.client('sagemaker')\n",
    "sm.list_pipelines()"
   ]
  },
  {
   "cell_type": "code",
   "execution_count": 22,
   "id": "ed682651-ef3e-4213-b39c-b581cb5b1aa6",
   "metadata": {
    "tags": []
   },
   "outputs": [],
   "source": [
    "import sys\n",
    "\n",
    "sys.path.append(\"../../src/lambda/\")"
   ]
  },
  {
   "cell_type": "code",
   "execution_count": null,
   "id": "353cb994-4478-4e80-a61c-680f1da67767",
   "metadata": {},
   "outputs": [],
   "source": []
  }
 ],
 "metadata": {
  "kernelspec": {
   "display_name": "conda_python3",
   "language": "python",
   "name": "conda_python3"
  },
  "language_info": {
   "codemirror_mode": {
    "name": "ipython",
    "version": 3
   },
   "file_extension": ".py",
   "mimetype": "text/x-python",
   "name": "python",
   "nbconvert_exporter": "python",
   "pygments_lexer": "ipython3",
   "version": "3.10.10"
  }
 },
 "nbformat": 4,
 "nbformat_minor": 5
}
